{
 "cells": [
  {
   "cell_type": "code",
   "execution_count": 2,
   "source": [
    "import pandas as pd"
   ],
   "outputs": [],
   "metadata": {}
  },
  {
   "cell_type": "markdown",
   "source": [
    "# Collection"
   ],
   "metadata": {}
  },
  {
   "cell_type": "code",
   "execution_count": 3,
   "source": [
    "# read in first 10000 rows from csv\r\n",
    "df = pd.read_csv('../data/IRAhandle_tweets_1.csv', nrows=10000)"
   ],
   "outputs": [],
   "metadata": {}
  },
  {
   "cell_type": "code",
   "execution_count": 4,
   "source": [
    "# filter by english language then by not containing '\\?'\r\n",
    "english_df = df[df['language'] == 'English']\r\n",
    "result_df = english_df[~english_df['content'].str.contains('\\?')]"
   ],
   "outputs": [],
   "metadata": {}
  },
  {
   "cell_type": "code",
   "execution_count": 5,
   "source": [
    "# write to tsv\r\n",
    "result_df.to_csv('../data/clean_data.tsv', sep='\\t', index=False)"
   ],
   "outputs": [],
   "metadata": {}
  },
  {
   "cell_type": "markdown",
   "source": [
    "# Annotation"
   ],
   "metadata": {}
  },
  {
   "cell_type": "code",
   "execution_count": 6,
   "source": [
    "# read in cleaned data\r\n",
    "clean_df = pd.read_csv('../data/clean_data.tsv', sep='\\t')\r\n"
   ],
   "outputs": [],
   "metadata": {}
  },
  {
   "cell_type": "code",
   "execution_count": 7,
   "source": [
    "# add feature 'trump_mention'\r\n",
    "clean_df['trump_mention'] = clean_df['content'].str.contains(\r\n",
    "    '(\\WTrump\\W)|(^Trump\\W)|(\\WTrump$)')\r\n"
   ],
   "outputs": [
    {
     "output_type": "stream",
     "name": "stderr",
     "text": [
      "C:\\Users\\zcgua\\Anaconda3\\lib\\site-packages\\ipykernel_launcher.py:3: UserWarning: This pattern has match groups. To actually get the groups, use str.extract.\n",
      "  This is separate from the ipykernel package so we can avoid doing imports until\n"
     ]
    }
   ],
   "metadata": {}
  },
  {
   "cell_type": "code",
   "execution_count": 8,
   "source": [
    "# write to tsv\r\n",
    "clean_df.to_csv('../dataset.tsv', sep='\\t', index=False,\r\n",
    "                columns=['tweet_id', 'publish_date', 'content', 'trump_mention'])\r\n"
   ],
   "outputs": [],
   "metadata": {}
  },
  {
   "cell_type": "markdown",
   "source": [
    "# Analysis"
   ],
   "metadata": {}
  },
  {
   "cell_type": "code",
   "execution_count": 9,
   "source": [
    "# read in dataset\r\n",
    "dataset_df = pd.read_csv('../dataset.tsv', sep='\\t')"
   ],
   "outputs": [],
   "metadata": {}
  },
  {
   "cell_type": "code",
   "execution_count": 25,
   "source": [
    "# calculate the percent trump mention\r\n",
    "frac = len(dataset_df[dataset_df['trump_mention']].index)/len(dataset_df.index)\r\n",
    "percent = round(frac * 100, 3)\r\n",
    "print(percent)\r\n"
   ],
   "outputs": [
    {
     "output_type": "stream",
     "name": "stdout",
     "text": [
      "2.249\n"
     ]
    }
   ],
   "metadata": {}
  },
  {
   "cell_type": "code",
   "execution_count": null,
   "source": [],
   "outputs": [],
   "metadata": {}
  }
 ],
 "metadata": {
  "orig_nbformat": 4,
  "language_info": {
   "name": "python",
   "version": "3.7.1",
   "mimetype": "text/x-python",
   "codemirror_mode": {
    "name": "ipython",
    "version": 3
   },
   "pygments_lexer": "ipython3",
   "nbconvert_exporter": "python",
   "file_extension": ".py"
  },
  "kernelspec": {
   "name": "python3",
   "display_name": "Python 3.7.1 64-bit ('base': conda)"
  },
  "interpreter": {
   "hash": "f5e1b8adddfa7131b5b33ad95fec655eed8e7c66dcdcbd512800a7776a44e6ae"
  }
 },
 "nbformat": 4,
 "nbformat_minor": 2
}